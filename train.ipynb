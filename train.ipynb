{
 "cells": [
  {
   "cell_type": "markdown",
   "id": "f0f3e592",
   "metadata": {},
   "source": [
    "## Linear regression"
   ]
  },
  {
   "cell_type": "code",
   "execution_count": 1,
   "id": "168c5168",
   "metadata": {},
   "outputs": [
    {
     "name": "stdout",
     "output_type": "stream",
     "text": [
      "model: LinearRegression\n",
      "r2_score: 0.9497752561801158\n",
      "mean_squared_error: 427.8356083333326\n",
      "model: ElasticNet\n",
      "r2_score: 0.8048026124466204\n",
      "mean_squared_error: 1662.773897831501\n",
      "model: LassoRegression\n",
      "r2_score: 0.8085665976080574\n",
      "mean_squared_error: 1630.7106804047269\n",
      "model: RidgeRegression\n",
      "r2_score: 0.8048897741126635\n",
      "mean_squared_error: 1662.031417898729\n"
     ]
    }
   ],
   "source": [
    "import matplotlib.pyplot as plt\n",
    "from sklearn.model_selection import train_test_split\n",
    "from linear_reg.linear_regression import LinearRegression\n",
    "from linear_reg.elastic import ElasticNet\n",
    "from linear_reg.lasso import LassoRegression\n",
    "from linear_reg.ridge import RidgeRegression\n",
    "from sklearn import datasets\n",
    "from residue.error import *\n",
    "\n",
    "x, y = datasets.make_regression(n_samples=1000, n_features=3, noise=20, random_state=4)\n",
    "x_train, x_test, y_train, y_test = train_test_split(x, y, test_size=0.2, random_state=42)\n",
    "\n",
    "models = [LinearRegression(learning_rate=0.1, n_iters=1000), ElasticNet(lambda1_param=0.01, lambda2_param=0.01), LassoRegression(lambda1_param=0.01), RidgeRegression(lambda2_param=0.01)]\n",
    "\n",
    "for model in models:\n",
    "    model.fit(x_train, y_train)\n",
    "    predictions = model.predict(x_test)\n",
    "    r2 = r2_score(y_test, predictions)\n",
    "    mse = mean_squared_error(y_test, predictions)\n",
    "    print(\"model:\", model.__class__.__name__)\n",
    "    print(\"r2_score:\", r2)\n",
    "    print(\"mean_squared_error:\", mse)"
   ]
  },
  {
   "cell_type": "markdown",
   "id": "7513f6dd",
   "metadata": {},
   "source": [
    "## Logistic regression"
   ]
  },
  {
   "cell_type": "code",
   "execution_count": 1,
   "id": "bf729575",
   "metadata": {},
   "outputs": [
    {
     "name": "stdout",
     "output_type": "stream",
     "text": [
      "Test accuracy: 0.930\n",
      "Loss: 1.6158491850578465\n"
     ]
    }
   ],
   "source": [
    "from sklearn.model_selection import train_test_split\n",
    "from sklearn import datasets\n",
    "from logistic_reg.logistic_regression import LogisticRegression\n",
    "from sklearn.metrics import accuracy_score\n",
    "from residue.error import *\n",
    "\n",
    "dataset = datasets.load_breast_cancer()\n",
    "X, y = dataset.data, dataset.target\n",
    "\n",
    "X, y = dataset.data, dataset.target \n",
    "X_train, X_test, y_train, y_test = train_test_split(\n",
    "    X, y, test_size=0.2\n",
    ")\n",
    "\n",
    "regressor = LogisticRegression(learning_rate=0.0001, n_iters=1000)\n",
    "regressor.fit(X_train, y_train)\n",
    "predictions = regressor.predict(X_test)\n",
    "\n",
    "accuracy = accuracy_score(y_test, predictions)\n",
    "loss = cross_entropy_loss(y_test, predictions)\n",
    "print(\"Test accuracy: {0:.3f}\".format(accuracy))\n",
    "print(\"Loss:\",np.array(loss))"
   ]
  },
  {
   "cell_type": "code",
   "execution_count": 4,
   "id": "98bed6a0",
   "metadata": {},
   "outputs": [
    {
     "name": "stdout",
     "output_type": "stream",
     "text": [
      "Test accuracy: 0.947\n"
     ]
    },
    {
     "name": "stderr",
     "output_type": "stream",
     "text": [
      "C:\\Users\\user\\AppData\\Roaming\\Python\\Python313\\site-packages\\sklearn\\linear_model\\_logistic.py:473: ConvergenceWarning: lbfgs failed to converge after 1000 iteration(s) (status=1):\n",
      "STOP: TOTAL NO. OF ITERATIONS REACHED LIMIT\n",
      "\n",
      "Increase the number of iterations to improve the convergence (max_iter=1000).\n",
      "You might also want to scale the data as shown in:\n",
      "    https://scikit-learn.org/stable/modules/preprocessing.html\n",
      "Please also refer to the documentation for alternative solver options:\n",
      "    https://scikit-learn.org/stable/modules/linear_model.html#logistic-regression\n",
      "  n_iter_i = _check_optimize_result(\n"
     ]
    }
   ],
   "source": [
    "from sklearn.linear_model import LogisticRegression\n",
    "\n",
    "logistic = LogisticRegression(max_iter=1000)\n",
    "logistic.fit(X_train, y_train)\n",
    "predictions = logistic.predict(X_test)\n",
    "accuracy = accuracy_score(y_test, predictions)\n",
    "print(\"Test accuracy: {0:.3f}\".format(accuracy))"
   ]
  },
  {
   "cell_type": "markdown",
   "id": "abc4b3ec",
   "metadata": {},
   "source": [
    "## K nearest neighbors"
   ]
  },
  {
   "cell_type": "code",
   "execution_count": 1,
   "id": "79d7a0f8",
   "metadata": {},
   "outputs": [],
   "source": [
    "from sklearn.model_selection import train_test_split\n",
    "from sklearn import datasets\n",
    "import matplotlib.pyplot as plt\n",
    "from sklearn.metrics import accuracy_score\n",
    "from residue.error import *"
   ]
  },
  {
   "cell_type": "code",
   "execution_count": 22,
   "id": "fcfd5b00",
   "metadata": {},
   "outputs": [
    {
     "name": "stdout",
     "output_type": "stream",
     "text": [
      "KNN accuracy: 1.0\n"
     ]
    },
    {
     "data": {
      "image/png": "[encoded data removed]",
      "text/plain": [
       "<Figure size 640x480 with 1 Axes>"
      ]
     },
     "metadata": {},
     "output_type": "display_data"
    }
   ],
   "source": [
    "df = datasets.load_iris()\n",
    "X, y = df.data, df.target\n",
    "\n",
    "X_train, X_test, y_train, y_test = train_test_split(\n",
    "    X, y, test_size=0.2, random_state=1234\n",
    ")\n",
    "\n",
    "from knn.knear_neighbors import KNN\n",
    "\n",
    "knn = KNN(k=3)\n",
    "knn.fit(X_train, y_train)\n",
    "predictions = knn.predict(X_test)\n",
    "\n",
    "accuracy = accuracy_score(y_test, predictions)\n",
    "print(\"KNN accuracy:\", accuracy)\n",
    "\n",
    "# graph\n",
    "plt.scatter(X[:, 2], X[:, 3], c=y, cmap=\"rainbow\")\n",
    "plt.show()"
   ]
  },
  {
   "cell_type": "markdown",
   "id": "230d26fb",
   "metadata": {},
   "source": [
    "## decision tree"
   ]
  },
  {
   "cell_type": "code",
   "execution_count": 22,
   "id": "11d3b541",
   "metadata": {},
   "outputs": [
    {
     "name": "stdout",
     "output_type": "stream",
     "text": [
      "Decision Tree accuracy: 1.0\n"
     ]
    }
   ],
   "source": [
    "df = datasets.load_iris()\n",
    "X, y = df.data, df.target\n",
    "\n",
    "X_train, X_test, y_train, y_test = train_test_split(\n",
    "    X, y, test_size=0.2, random_state=1234\n",
    ")\n",
    "\n",
    "from decision.decision_tree import DecisionTree\n",
    "\n",
    "tree = DecisionTree(n_features=2)\n",
    "tree.fit(X_train, y_train)\n",
    "predictions = tree.predict(X_test)\n",
    "\n",
    "accuracy = accuracy_score(y_test, predictions)\n",
    "print(\"Decision Tree accuracy:\", accuracy)"
   ]
  },
  {
   "cell_type": "markdown",
   "id": "309e0142",
   "metadata": {},
   "source": [
    "## Random Forest"
   ]
  },
  {
   "cell_type": "code",
   "execution_count": 1,
   "id": "964708c2",
   "metadata": {},
   "outputs": [
    {
     "name": "stdout",
     "output_type": "stream",
     "text": [
      "Random Forest accuracy: 0.9666666666666667\n"
     ]
    }
   ],
   "source": [
    "from sklearn.model_selection import train_test_split\n",
    "from sklearn import datasets\n",
    "from sklearn.metrics import accuracy_score\n",
    "\n",
    "df = datasets.load_iris()\n",
    "X, y = df.data, df.target\n",
    "\n",
    "X_train, X_test, y_train, y_test = train_test_split(\n",
    "    X, y, test_size=0.2, random_state=1234\n",
    ")\n",
    "\n",
    "from random_forest.forest import RandomForest\n",
    "\n",
    "tree = RandomForest(n_trees=10 , n_features=2)\n",
    "tree.fit(X_train, y_train)\n",
    "predictions = tree.predict(X_test)\n",
    "\n",
    "accuracy = accuracy_score(y_test, predictions)\n",
    "print(\"Random Forest accuracy:\", accuracy)"
   ]
  },
  {
   "cell_type": "code",
   "execution_count": 6,
   "id": "2cea2d5d",
   "metadata": {},
   "outputs": [
    {
     "name": "stdout",
     "output_type": "stream",
     "text": [
      "Random Forest accuracy: 0.956140350877193\n"
     ]
    }
   ],
   "source": [
    "df = datasets.load_breast_cancer()\n",
    "X, y = df.data, df.target\n",
    "\n",
    "X_train, X_test, y_train, y_test = train_test_split(\n",
    "    X, y, test_size=0.2, random_state=1234\n",
    ")\n",
    "\n",
    "tree = RandomForest(n_trees=50 , n_features=2)\n",
    "tree.fit(X_train, y_train)\n",
    "predictions = tree.predict(X_test)\n",
    "\n",
    "accuracy = accuracy_score(y_test, predictions)\n",
    "print(\"Random Forest accuracy:\", accuracy)"
   ]
  }
 ],
 "metadata": {
  "kernelspec": {
   "display_name": "Python 3",
   "language": "python",
   "name": "python3"
  },
  "language_info": {
   "codemirror_mode": {
    "name": "ipython",
    "version": 3
   },
   "file_extension": ".py",
   "mimetype": "text/x-python",
   "name": "python",
   "nbconvert_exporter": "python",
   "pygments_lexer": "ipython3",
   "version": "3.13.5"
  }
 },
 "nbformat": 4,
 "nbformat_minor": 5
}
